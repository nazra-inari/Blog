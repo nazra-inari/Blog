{
 "cells": [
  {
   "cell_type": "markdown",
   "metadata": {
    "toc": true
   },
   "source": [
    "<h1>Table of Contents<span class=\"tocSkip\"></span></h1>\n",
    "<div class=\"toc\"><ul class=\"toc-item\"><li><span><a href=\"#DSCI-571-Lab-1\" data-toc-modified-id=\"DSCI-571-Lab-1-1\">DSCI 571 Lab 1</a></span><ul class=\"toc-item\"><li><span><a href=\"#Instructions\" data-toc-modified-id=\"Instructions-1.1\">Instructions</a></span></li><li><span><a href=\"#Introduction\" data-toc-modified-id=\"Introduction-1.2\">Introduction</a></span></li><li><span><a href=\"#Getting-familiar-with-the-fit-and-predict-paradigm.\" data-toc-modified-id=\"Getting-familiar-with-the-fit-and-predict-paradigm.-1.3\">Getting familiar with the <em>fit</em> and <em>predict</em> paradigm.</a></span></li><li><span><a href=\"#Fit-a-decision-tree-model-using-sklearn\" data-toc-modified-id=\"Fit-a-decision-tree-model-using-sklearn-1.4\">Fit a decision tree model using sklearn</a></span></li><li><span><a href=\"#Predict-using-the-model\" data-toc-modified-id=\"Predict-using-the-model-1.5\">Predict using the model</a></span></li><li><span><a href=\"#Visualize-the-trained-decision-tree-using-the-graphviz-package\" data-toc-modified-id=\"Visualize-the-trained-decision-tree-using-the-graphviz-package-1.6\">Visualize the trained decision tree using the <code>graphviz</code> package</a></span></li><li><span><a href=\"#Exercise-1:-Interpretation-of-the-decision-tree\" data-toc-modified-id=\"Exercise-1:-Interpretation-of-the-decision-tree-1.7\">Exercise 1: Interpretation of the decision tree</a></span><ul class=\"toc-item\"><li><span><a href=\"#1(a)\" data-toc-modified-id=\"1(a)-1.7.1\">1(a)</a></span></li><li><span><a href=\"#1(b)\" data-toc-modified-id=\"1(b)-1.7.2\">1(b)</a></span></li><li><span><a href=\"#1(c)\" data-toc-modified-id=\"1(c)-1.7.3\">1(c)</a></span></li></ul></li><li><span><a href=\"#Data\" data-toc-modified-id=\"Data-1.8\">Data</a></span></li><li><span><a href=\"#Exercise-2:-Exploratory-Data-Analysis\" data-toc-modified-id=\"Exercise-2:-Exploratory-Data-Analysis-1.9\">Exercise 2: Exploratory Data Analysis</a></span><ul class=\"toc-item\"><li><span><a href=\"#2(a)\" data-toc-modified-id=\"2(a)-1.9.1\">2(a)</a></span></li><li><span><a href=\"#2(b)\" data-toc-modified-id=\"2(b)-1.9.2\">2(b)</a></span></li><li><span><a href=\"#2(c)\" data-toc-modified-id=\"2(c)-1.9.3\">2(c)</a></span></li><li><span><a href=\"#2(d)\" data-toc-modified-id=\"2(d)-1.9.4\">2(d)</a></span></li></ul></li><li><span><a href=\"#Exercise-3:-Using-sklearn-to-build-a-decision-tree-classifier\" data-toc-modified-id=\"Exercise-3:-Using-sklearn-to-build-a-decision-tree-classifier-1.10\">Exercise 3: Using sklearn to build a decision tree classifier</a></span><ul class=\"toc-item\"><li><span><a href=\"#3(a)\" data-toc-modified-id=\"3(a)-1.10.1\">3(a)</a></span></li><li><span><a href=\"#3(b)\" data-toc-modified-id=\"3(b)-1.10.2\">3(b)</a></span></li><li><span><a href=\"#3(c)\" data-toc-modified-id=\"3(c)-1.10.3\">3(c)</a></span></li></ul></li><li><span><a href=\"#Exercise-4:-Hyperparameters\" data-toc-modified-id=\"Exercise-4:-Hyperparameters-1.11\">Exercise 4: Hyperparameters</a></span><ul class=\"toc-item\"><li><span><a href=\"#4(a)\" data-toc-modified-id=\"4(a)-1.11.1\">4(a)</a></span></li></ul></li><li><span><a href=\"#(Optional)-Exercise-5:-Decision-tree-implementation\" data-toc-modified-id=\"(Optional)-Exercise-5:-Decision-tree-implementation-1.12\">(Optional) Exercise 5: Decision tree implementation</a></span></li></ul></li></ul></div>"
   ]
  },
  {
   "cell_type": "markdown",
   "metadata": {},
   "source": [
    "# DSCI 571 Lab 1"
   ]
  },
  {
   "cell_type": "code",
   "execution_count": 1,
   "metadata": {},
   "outputs": [],
   "source": [
    "import pandas as pd\n",
    "import matplotlib.pyplot as plt\n",
    "%matplotlib inline\n",
    "import numpy as np\n",
    "import seaborn as sns\n",
    "from sklearn.tree import DecisionTreeClassifier, export_graphviz\n",
    "from sklearn.feature_extraction.text import CountVectorizer"
   ]
  },
  {
   "cell_type": "markdown",
   "metadata": {},
   "source": [
    "## Instructions\n",
    "rubric={mechanics:3}\n",
    "\n",
    "Follow the [general lab instructions](https://ubc-mds.github.io/resources_pages/general_lab_instructions/). "
   ]
  },
  {
   "cell_type": "markdown",
   "metadata": {},
   "source": [
    "## Introduction\n",
    "\n",
    "Computer scientists write programs that encode a set of rules that are useful to solve problems. In many cases, it is very difficult to think of all these rules and specify them  manually. The idea of supervised machine learning is to build a system that learns these rules automatically given representative examples. In this lab, we will focus on the decision tree supervised learning algorithm. In particular, the goals of this lab are: \n",
    "\n",
    "- to understand decision tree algorithm \n",
    "- to learn how to train a decision tree using sklearn"
   ]
  },
  {
   "cell_type": "markdown",
   "metadata": {},
   "source": [
    "## Getting familiar with the *fit* and *predict* paradigm. \n",
    "\n",
    "The idea of a machine learning algorithm is to *fit* the best model on the given training data (which is in the form of feature vactors and their targets) and then using this model to *predict* targets for new examples (represented with feature vectors.) Below we show an example of using these paradigms with a toy dataset.  "
   ]
  },
  {
   "cell_type": "code",
   "execution_count": 2,
   "metadata": {},
   "outputs": [
    {
     "data": {
      "text/html": [
       "<div>\n",
       "<style scoped>\n",
       "    .dataframe tbody tr th:only-of-type {\n",
       "        vertical-align: middle;\n",
       "    }\n",
       "\n",
       "    .dataframe tbody tr th {\n",
       "        vertical-align: top;\n",
       "    }\n",
       "\n",
       "    .dataframe thead th {\n",
       "        text-align: right;\n",
       "    }\n",
       "</style>\n",
       "<table border=\"1\" class=\"dataframe\">\n",
       "  <thead>\n",
       "    <tr style=\"text-align: right;\">\n",
       "      <th></th>\n",
       "      <th>is_sweet</th>\n",
       "      <th>diameter</th>\n",
       "      <th>target</th>\n",
       "    </tr>\n",
       "  </thead>\n",
       "  <tbody>\n",
       "    <tr>\n",
       "      <th>0</th>\n",
       "      <td>0</td>\n",
       "      <td>3</td>\n",
       "      <td>Apple</td>\n",
       "    </tr>\n",
       "    <tr>\n",
       "      <th>1</th>\n",
       "      <td>0</td>\n",
       "      <td>3</td>\n",
       "      <td>Apple</td>\n",
       "    </tr>\n",
       "    <tr>\n",
       "      <th>2</th>\n",
       "      <td>1</td>\n",
       "      <td>1</td>\n",
       "      <td>Grape</td>\n",
       "    </tr>\n",
       "    <tr>\n",
       "      <th>3</th>\n",
       "      <td>1</td>\n",
       "      <td>1</td>\n",
       "      <td>Grape</td>\n",
       "    </tr>\n",
       "    <tr>\n",
       "      <th>4</th>\n",
       "      <td>0</td>\n",
       "      <td>3</td>\n",
       "      <td>Lemon</td>\n",
       "    </tr>\n",
       "    <tr>\n",
       "      <th>5</th>\n",
       "      <td>1</td>\n",
       "      <td>1</td>\n",
       "      <td>Grape</td>\n",
       "    </tr>\n",
       "    <tr>\n",
       "      <th>6</th>\n",
       "      <td>0</td>\n",
       "      <td>4</td>\n",
       "      <td>Apple</td>\n",
       "    </tr>\n",
       "  </tbody>\n",
       "</table>\n",
       "</div>"
      ],
      "text/plain": [
       "   is_sweet  diameter target\n",
       "0         0         3  Apple\n",
       "1         0         3  Apple\n",
       "2         1         1  Grape\n",
       "3         1         1  Grape\n",
       "4         0         3  Lemon\n",
       "5         1         1  Grape\n",
       "6         0         4  Apple"
      ]
     },
     "execution_count": 2,
     "metadata": {},
     "output_type": "execute_result"
    }
   ],
   "source": [
    "import pandas as pd\n",
    "\n",
    "toy_data = {\n",
    "            # Features\n",
    "            'is_sweet':[0,0,1,1,0,1,0],\n",
    "            'diameter':[3,3,1,1,3,1,4],\n",
    "            # Target\n",
    "            'target':['Apple','Apple','Grape','Grape','Lemon','Grape','Apple']\n",
    "           }\n",
    "\n",
    "df = pd.DataFrame(toy_data)\n",
    "df"
   ]
  },
  {
   "cell_type": "markdown",
   "metadata": {},
   "source": [
    "## Fit a decision tree model using sklearn "
   ]
  },
  {
   "cell_type": "code",
   "execution_count": 3,
   "metadata": {},
   "outputs": [],
   "source": [
    "from sklearn import tree \n",
    "model = tree.DecisionTreeClassifier()\n",
    "# Prepare data for model fitting\n",
    "feature_cols = ['is_sweet','diameter']\n",
    "X = df.loc[:, feature_cols]\n",
    "y = df.target"
   ]
  },
  {
   "cell_type": "code",
   "execution_count": 4,
   "metadata": {},
   "outputs": [
    {
     "data": {
      "text/plain": [
       "DecisionTreeClassifier(class_weight=None, criterion='gini', max_depth=None,\n",
       "            max_features=None, max_leaf_nodes=None,\n",
       "            min_impurity_decrease=0.0, min_impurity_split=None,\n",
       "            min_samples_leaf=1, min_samples_split=2,\n",
       "            min_weight_fraction_leaf=0.0, presort=False, random_state=None,\n",
       "            splitter='best')"
      ]
     },
     "execution_count": 4,
     "metadata": {},
     "output_type": "execute_result"
    }
   ],
   "source": [
    "# Fit a model\n",
    "model.fit(X, y)"
   ]
  },
  {
   "cell_type": "markdown",
   "metadata": {},
   "source": [
    "## Predict using the model"
   ]
  },
  {
   "cell_type": "code",
   "execution_count": 5,
   "metadata": {},
   "outputs": [
    {
     "data": {
      "text/plain": [
       "array(['Apple', 'Apple', 'Grape', 'Grape', 'Apple', 'Grape', 'Apple'],\n",
       "      dtype=object)"
      ]
     },
     "execution_count": 5,
     "metadata": {},
     "output_type": "execute_result"
    }
   ],
   "source": [
    "predictions = model.predict(X)\n",
    "predictions"
   ]
  },
  {
   "cell_type": "markdown",
   "metadata": {},
   "source": [
    "Since we know the true fruit identities, we can compare the predictions to the true values."
   ]
  },
  {
   "cell_type": "code",
   "execution_count": 6,
   "metadata": {},
   "outputs": [
    {
     "data": {
      "text/html": [
       "<div>\n",
       "<style scoped>\n",
       "    .dataframe tbody tr th:only-of-type {\n",
       "        vertical-align: middle;\n",
       "    }\n",
       "\n",
       "    .dataframe tbody tr th {\n",
       "        vertical-align: top;\n",
       "    }\n",
       "\n",
       "    .dataframe thead th {\n",
       "        text-align: right;\n",
       "    }\n",
       "</style>\n",
       "<table border=\"1\" class=\"dataframe\">\n",
       "  <thead>\n",
       "    <tr style=\"text-align: right;\">\n",
       "      <th></th>\n",
       "      <th>is_sweet</th>\n",
       "      <th>diameter</th>\n",
       "      <th>target</th>\n",
       "      <th>prediction</th>\n",
       "    </tr>\n",
       "  </thead>\n",
       "  <tbody>\n",
       "    <tr>\n",
       "      <th>0</th>\n",
       "      <td>0</td>\n",
       "      <td>3</td>\n",
       "      <td>Apple</td>\n",
       "      <td>Apple</td>\n",
       "    </tr>\n",
       "    <tr>\n",
       "      <th>1</th>\n",
       "      <td>0</td>\n",
       "      <td>3</td>\n",
       "      <td>Apple</td>\n",
       "      <td>Apple</td>\n",
       "    </tr>\n",
       "    <tr>\n",
       "      <th>2</th>\n",
       "      <td>1</td>\n",
       "      <td>1</td>\n",
       "      <td>Grape</td>\n",
       "      <td>Grape</td>\n",
       "    </tr>\n",
       "    <tr>\n",
       "      <th>3</th>\n",
       "      <td>1</td>\n",
       "      <td>1</td>\n",
       "      <td>Grape</td>\n",
       "      <td>Grape</td>\n",
       "    </tr>\n",
       "    <tr>\n",
       "      <th>4</th>\n",
       "      <td>0</td>\n",
       "      <td>3</td>\n",
       "      <td>Lemon</td>\n",
       "      <td>Apple</td>\n",
       "    </tr>\n",
       "    <tr>\n",
       "      <th>5</th>\n",
       "      <td>1</td>\n",
       "      <td>1</td>\n",
       "      <td>Grape</td>\n",
       "      <td>Grape</td>\n",
       "    </tr>\n",
       "    <tr>\n",
       "      <th>6</th>\n",
       "      <td>0</td>\n",
       "      <td>4</td>\n",
       "      <td>Apple</td>\n",
       "      <td>Apple</td>\n",
       "    </tr>\n",
       "  </tbody>\n",
       "</table>\n",
       "</div>"
      ],
      "text/plain": [
       "   is_sweet  diameter target prediction\n",
       "0         0         3  Apple      Apple\n",
       "1         0         3  Apple      Apple\n",
       "2         1         1  Grape      Grape\n",
       "3         1         1  Grape      Grape\n",
       "4         0         3  Lemon      Apple\n",
       "5         1         1  Grape      Grape\n",
       "6         0         4  Apple      Apple"
      ]
     },
     "execution_count": 6,
     "metadata": {},
     "output_type": "execute_result"
    }
   ],
   "source": [
    "pred_dict = toy_data.copy()\n",
    "pred_dict['prediction'] = predictions\n",
    "pd.DataFrame(pred_dict)"
   ]
  },
  {
   "cell_type": "markdown",
   "metadata": {},
   "source": [
    "Notice that the model made an _error_ on example 4, which is a Lemon but was labelled as an Apple."
   ]
  },
  {
   "cell_type": "markdown",
   "metadata": {},
   "source": [
    "## Visualize the trained decision tree using the `graphviz` package\n",
    "\n",
    "We will be using the graphviz package to visualize the trained decision tree model. You can refer to the first two pages of the [User Guide](https://graphviz.readthedocs.io/en/stable/manual.html) for general introduction of this package. \n",
    "\n",
    "Mac or unix users: You will have to install the package using\n",
    "\n",
    "       pip install python-graphviz\n",
    "\n",
    "and/or (possibly both) \n",
    "\n",
    "       conda install python-graphviz\n",
    "\n",
    "Windows users: You might have to install both the [software](https://graphviz.gitlab.io/_pages/Download/Download_windows.html) and the package. "
   ]
  },
  {
   "cell_type": "code",
   "execution_count": 7,
   "metadata": {},
   "outputs": [],
   "source": [
    "import graphviz "
   ]
  },
  {
   "cell_type": "code",
   "execution_count": 8,
   "metadata": {},
   "outputs": [
    {
     "data": {
      "image/svg+xml": [
       "<?xml version=\"1.0\" encoding=\"UTF-8\" standalone=\"no\"?>\n",
       "<!DOCTYPE svg PUBLIC \"-//W3C//DTD SVG 1.1//EN\"\n",
       " \"http://www.w3.org/Graphics/SVG/1.1/DTD/svg11.dtd\">\n",
       "<!-- Generated by graphviz version 2.40.1 (20161225.0304)\n",
       " -->\n",
       "<!-- Title: Tree Pages: 1 -->\n",
       "<svg width=\"257pt\" height=\"314pt\"\n",
       " viewBox=\"0.00 0.00 257.00 314.00\" xmlns=\"http://www.w3.org/2000/svg\" xmlns:xlink=\"http://www.w3.org/1999/xlink\">\n",
       "<g id=\"graph0\" class=\"graph\" transform=\"scale(1 1) rotate(0) translate(4 310)\">\n",
       "<title>Tree</title>\n",
       "<polygon fill=\"#ffffff\" stroke=\"transparent\" points=\"-4,4 -4,-310 253,-310 253,4 -4,4\"/>\n",
       "<!-- 0 -->\n",
       "<g id=\"node1\" class=\"node\">\n",
       "<title>0</title>\n",
       "<path fill=\"transparent\" stroke=\"#000000\" d=\"M183,-306C183,-306 118,-306 118,-306 112,-306 106,-300 106,-294 106,-294 106,-235 106,-235 106,-229 112,-223 118,-223 118,-223 183,-223 183,-223 189,-223 195,-229 195,-235 195,-235 195,-294 195,-294 195,-300 189,-306 183,-306\"/>\n",
       "<text text-anchor=\"start\" x=\"116.5\" y=\"-290.8\" font-family=\"Helvetica,sans-Serif\" font-size=\"14.00\" fill=\"#000000\">is_sweet ≤ 0.5</text>\n",
       "<text text-anchor=\"start\" x=\"123\" y=\"-275.8\" font-family=\"Helvetica,sans-Serif\" font-size=\"14.00\" fill=\"#000000\">gini = 0.612</text>\n",
       "<text text-anchor=\"start\" x=\"122\" y=\"-260.8\" font-family=\"Helvetica,sans-Serif\" font-size=\"14.00\" fill=\"#000000\">samples = 7</text>\n",
       "<text text-anchor=\"start\" x=\"114\" y=\"-245.8\" font-family=\"Helvetica,sans-Serif\" font-size=\"14.00\" fill=\"#000000\">value = [3, 3, 1]</text>\n",
       "<text text-anchor=\"start\" x=\"119\" y=\"-230.8\" font-family=\"Helvetica,sans-Serif\" font-size=\"14.00\" fill=\"#000000\">class = Apple</text>\n",
       "</g>\n",
       "<!-- 1 -->\n",
       "<g id=\"node2\" class=\"node\">\n",
       "<title>1</title>\n",
       "<path fill=\"#e58139\" fill-opacity=\"0.666667\" stroke=\"#000000\" d=\"M130,-187C130,-187 65,-187 65,-187 59,-187 53,-181 53,-175 53,-175 53,-116 53,-116 53,-110 59,-104 65,-104 65,-104 130,-104 130,-104 136,-104 142,-110 142,-116 142,-116 142,-175 142,-175 142,-181 136,-187 130,-187\"/>\n",
       "<text text-anchor=\"start\" x=\"63.5\" y=\"-171.8\" font-family=\"Helvetica,sans-Serif\" font-size=\"14.00\" fill=\"#000000\">diameter ≤ 3.5</text>\n",
       "<text text-anchor=\"start\" x=\"70\" y=\"-156.8\" font-family=\"Helvetica,sans-Serif\" font-size=\"14.00\" fill=\"#000000\">gini = 0.375</text>\n",
       "<text text-anchor=\"start\" x=\"69\" y=\"-141.8\" font-family=\"Helvetica,sans-Serif\" font-size=\"14.00\" fill=\"#000000\">samples = 4</text>\n",
       "<text text-anchor=\"start\" x=\"61\" y=\"-126.8\" font-family=\"Helvetica,sans-Serif\" font-size=\"14.00\" fill=\"#000000\">value = [3, 0, 1]</text>\n",
       "<text text-anchor=\"start\" x=\"66\" y=\"-111.8\" font-family=\"Helvetica,sans-Serif\" font-size=\"14.00\" fill=\"#000000\">class = Apple</text>\n",
       "</g>\n",
       "<!-- 0&#45;&gt;1 -->\n",
       "<g id=\"edge1\" class=\"edge\">\n",
       "<title>0&#45;&gt;1</title>\n",
       "<path fill=\"none\" stroke=\"#000000\" d=\"M131.9632,-222.8796C128.1926,-214.4136 124.185,-205.4153 120.2867,-196.6626\"/>\n",
       "<polygon fill=\"#000000\" stroke=\"#000000\" points=\"123.3817,-195.009 116.1159,-187.2981 116.9873,-197.857 123.3817,-195.009\"/>\n",
       "<text text-anchor=\"middle\" x=\"107.1597\" y=\"-206.9387\" font-family=\"Helvetica,sans-Serif\" font-size=\"14.00\" fill=\"#000000\">True</text>\n",
       "</g>\n",
       "<!-- 4 -->\n",
       "<g id=\"node5\" class=\"node\">\n",
       "<title>4</title>\n",
       "<path fill=\"#39e581\" stroke=\"#000000\" d=\"M237,-179.5C237,-179.5 172,-179.5 172,-179.5 166,-179.5 160,-173.5 160,-167.5 160,-167.5 160,-123.5 160,-123.5 160,-117.5 166,-111.5 172,-111.5 172,-111.5 237,-111.5 237,-111.5 243,-111.5 249,-117.5 249,-123.5 249,-123.5 249,-167.5 249,-167.5 249,-173.5 243,-179.5 237,-179.5\"/>\n",
       "<text text-anchor=\"start\" x=\"183\" y=\"-164.3\" font-family=\"Helvetica,sans-Serif\" font-size=\"14.00\" fill=\"#000000\">gini = 0.0</text>\n",
       "<text text-anchor=\"start\" x=\"176\" y=\"-149.3\" font-family=\"Helvetica,sans-Serif\" font-size=\"14.00\" fill=\"#000000\">samples = 3</text>\n",
       "<text text-anchor=\"start\" x=\"168\" y=\"-134.3\" font-family=\"Helvetica,sans-Serif\" font-size=\"14.00\" fill=\"#000000\">value = [0, 3, 0]</text>\n",
       "<text text-anchor=\"start\" x=\"171.5\" y=\"-119.3\" font-family=\"Helvetica,sans-Serif\" font-size=\"14.00\" fill=\"#000000\">class = Grape</text>\n",
       "</g>\n",
       "<!-- 0&#45;&gt;4 -->\n",
       "<g id=\"edge4\" class=\"edge\">\n",
       "<title>0&#45;&gt;4</title>\n",
       "<path fill=\"none\" stroke=\"#000000\" d=\"M169.3866,-222.8796C174.3265,-211.9935 179.6659,-200.227 184.6541,-189.2344\"/>\n",
       "<polygon fill=\"#000000\" stroke=\"#000000\" points=\"187.9834,-190.3675 188.9285,-179.8149 181.609,-187.4749 187.9834,-190.3675\"/>\n",
       "<text text-anchor=\"middle\" x=\"197.7214\" y=\"-199.5176\" font-family=\"Helvetica,sans-Serif\" font-size=\"14.00\" fill=\"#000000\">False</text>\n",
       "</g>\n",
       "<!-- 2 -->\n",
       "<g id=\"node3\" class=\"node\">\n",
       "<title>2</title>\n",
       "<path fill=\"#e58139\" fill-opacity=\"0.498039\" stroke=\"#000000\" d=\"M77,-68C77,-68 12,-68 12,-68 6,-68 0,-62 0,-56 0,-56 0,-12 0,-12 0,-6 6,0 12,0 12,0 77,0 77,0 83,0 89,-6 89,-12 89,-12 89,-56 89,-56 89,-62 83,-68 77,-68\"/>\n",
       "<text text-anchor=\"start\" x=\"17\" y=\"-52.8\" font-family=\"Helvetica,sans-Serif\" font-size=\"14.00\" fill=\"#000000\">gini = 0.444</text>\n",
       "<text text-anchor=\"start\" x=\"16\" y=\"-37.8\" font-family=\"Helvetica,sans-Serif\" font-size=\"14.00\" fill=\"#000000\">samples = 3</text>\n",
       "<text text-anchor=\"start\" x=\"8\" y=\"-22.8\" font-family=\"Helvetica,sans-Serif\" font-size=\"14.00\" fill=\"#000000\">value = [2, 0, 1]</text>\n",
       "<text text-anchor=\"start\" x=\"13\" y=\"-7.8\" font-family=\"Helvetica,sans-Serif\" font-size=\"14.00\" fill=\"#000000\">class = Apple</text>\n",
       "</g>\n",
       "<!-- 1&#45;&gt;2 -->\n",
       "<g id=\"edge2\" class=\"edge\">\n",
       "<title>1&#45;&gt;2</title>\n",
       "<path fill=\"none\" stroke=\"#000000\" d=\"M77.7648,-103.9815C73.6582,-95.3423 69.3194,-86.2144 65.1799,-77.5059\"/>\n",
       "<polygon fill=\"#000000\" stroke=\"#000000\" points=\"68.2409,-75.7927 60.7868,-68.2637 61.9188,-78.7979 68.2409,-75.7927\"/>\n",
       "</g>\n",
       "<!-- 3 -->\n",
       "<g id=\"node4\" class=\"node\">\n",
       "<title>3</title>\n",
       "<path fill=\"#e58139\" stroke=\"#000000\" d=\"M184,-68C184,-68 119,-68 119,-68 113,-68 107,-62 107,-56 107,-56 107,-12 107,-12 107,-6 113,0 119,0 119,0 184,0 184,0 190,0 196,-6 196,-12 196,-12 196,-56 196,-56 196,-62 190,-68 184,-68\"/>\n",
       "<text text-anchor=\"start\" x=\"130\" y=\"-52.8\" font-family=\"Helvetica,sans-Serif\" font-size=\"14.00\" fill=\"#000000\">gini = 0.0</text>\n",
       "<text text-anchor=\"start\" x=\"123\" y=\"-37.8\" font-family=\"Helvetica,sans-Serif\" font-size=\"14.00\" fill=\"#000000\">samples = 1</text>\n",
       "<text text-anchor=\"start\" x=\"115\" y=\"-22.8\" font-family=\"Helvetica,sans-Serif\" font-size=\"14.00\" fill=\"#000000\">value = [1, 0, 0]</text>\n",
       "<text text-anchor=\"start\" x=\"120\" y=\"-7.8\" font-family=\"Helvetica,sans-Serif\" font-size=\"14.00\" fill=\"#000000\">class = Apple</text>\n",
       "</g>\n",
       "<!-- 1&#45;&gt;3 -->\n",
       "<g id=\"edge3\" class=\"edge\">\n",
       "<title>1&#45;&gt;3</title>\n",
       "<path fill=\"none\" stroke=\"#000000\" d=\"M117.6076,-103.9815C121.7916,-95.3423 126.2123,-86.2144 130.4299,-77.5059\"/>\n",
       "<polygon fill=\"#000000\" stroke=\"#000000\" points=\"133.6971,-78.7893 134.9059,-68.2637 127.3971,-75.7382 133.6971,-78.7893\"/>\n",
       "</g>\n",
       "</g>\n",
       "</svg>\n"
      ],
      "text/plain": [
       "<graphviz.files.Source at 0x1a0fc53ef0>"
      ]
     },
     "execution_count": 8,
     "metadata": {},
     "output_type": "execute_result"
    }
   ],
   "source": [
    "def save_and_show_decision_tree(model, \n",
    "                                class_names = ['Apple', 'Grape', 'Lemon'], \n",
    "                                save_file_prefix = 'test', **kwargs):\n",
    "    \"\"\"\n",
    "    Saves the decision tree model as a pdf and a \n",
    "    \"\"\"\n",
    "    dot_data = tree.export_graphviz(model, out_file=None, \n",
    "                             feature_names=feature_cols,  \n",
    "                             class_names=class_names,  \n",
    "                             filled=True, rounded=True,  \n",
    "                             special_characters=True, **kwargs)  \n",
    "\n",
    "    graph = graphviz.Source(dot_data) \n",
    "    graph.render(save_file_prefix) \n",
    "    return graph\n",
    "\n",
    "graph = save_and_show_decision_tree(model)\n",
    "graph"
   ]
  },
  {
   "cell_type": "markdown",
   "metadata": {},
   "source": [
    "## Exercise 1: Interpretation of the decision tree"
   ]
  },
  {
   "cell_type": "markdown",
   "metadata": {},
   "source": [
    "### 1(a)\n",
    "rubric={reasoning:3}\n",
    "\n",
    "Explain each split in this decision tree. How is the data partitioned after each split? "
   ]
  },
  {
   "cell_type": "markdown",
   "metadata": {},
   "source": [
    "On the first iteration, the decision tree calculates the gini or Entropy value for each field as a preidictor of the label/output with a certain threshold. The field/column with the lowest gini or entropy is selected along with a threshold and then used to predict the label.\n",
    "\n",
    "In the first iteration of this tree, the field/column selected is the \"is_sweet\" column and the threshold is 0.5. Rows/records that have an is_sweet value of lesser than 0.5 are classified as Apples and all the others are classified into Not Apples. This split is what divides the table into two different tables.\n",
    "The first split divides the original data into two tables. The first table is what the program predicts to be apples, while the second is Not Apples. The original table had 7 records and 2 fields. The predicted apple table has 4 records (4 apples and 1 Lemon) and the predicted NOT apple table has 3 grapes. \n",
    "\n",
    "In the second split, the algorithm takes the table to the left (i.e the tables it predicts as apples) and then tries to find the most predictive column/field amongst the columns again, just like before the first split (using gini or entropy and a threshold). In this iteration, it decides on the diameter column and a threshold of 3.5 as the strongest predictor of whether the record is an apple or not. Based of this threshold, the predicted apple table is split again into two tables, one of 2 apples 1 Lemon, and the other with 1 apple. Interesting to note, that the first split of this second step now has a gini of 0.444 compared to a gini of 0.375 in the previous step. I think this is because the lemon is still included in this split and in a way makes model bad, which is quantified as the increasse in the gini score. \n",
    "\n",
    "On the right side of the first split, is the table with all three grapes. This as expected would have a gini or entropy of zero because the table is all grapes and is 100% accurate. \n",
    "\n",
    "Each iteration of a decision tree picks a field/column and then calculates the error/accuracy of it's prediction as ratio of the number of correct predictions to the number of outputs. It does this by first deciding a threshold, and then sees if the threshold selected is a good metric of deciding wheter The field with the lowest error or highest accuracy is the field that is used to split the data set into two. All the the rows/records/objects that provided a correct prediction "
   ]
  },
  {
   "cell_type": "markdown",
   "metadata": {},
   "source": [
    "### 1(b) \n",
    "rubric={reasoning:2}\n",
    "\n",
    "Why did the first split happen on the `is_sweet` feature and not on the `diameter` feature?"
   ]
  },
  {
   "cell_type": "markdown",
   "metadata": {},
   "source": [
    "Before splitting the table, the algorithm has to decide which field/column to use for the prediction. The column selected should have the lowest gini or entropy score and threshold that makes the prediction accurate. This makes intuitive sense because a low entropy suggests that we can be more confident with our predictions/classification. It seems that in this case, the is_sweet feature is used because it probably had the lowest gini score/entropy at that threshold. "
   ]
  },
  {
   "cell_type": "markdown",
   "metadata": {},
   "source": [
    "### 1(c)\n",
    "rubric={reasoning:2}\n",
    "\n",
    "Discuss the predictions on the training data. Why is the fifth example (`is_sweet` = 0 and `diameter` = 3) classified as *Apple* even though in the training data its target is *Lemon*? "
   ]
  },
  {
   "cell_type": "markdown",
   "metadata": {},
   "source": [
    "The fifth example is classified as apple inspite of being a lemon because the diameter and sweetness of the record matches taht of apples as well. At this point SciKit makes a random decision between two and decided to choose appple. It could have very well chosen lemon, but in doing so it would be wrong about "
   ]
  },
  {
   "cell_type": "markdown",
   "metadata": {},
   "source": [
    "## Data\n",
    "\n",
    "For the rest of the lab you'll be using Kaggle's [Spotify Song Attributes](https://www.kaggle.com/geomack/spotifyclassification/home) dataset.\n",
    "The dataset contains a number of features of songs from 2017 and a binary target variable representing whether the user liked the song or not. See the documentation of all the features [here](https://developer.spotify.com/documentation/web-api/reference/tracks/get-audio-features/). The question we will focus on is what kinds of songs the user likes.\n",
    "\n",
    "Follow the steps below to get the data CSV. \n",
    "\n",
    "- If you do not have an account with Kaggle, you will first need to create one. \n",
    "- Login to your account and [download](https://www.kaggle.com/geomack/spotifyclassification/downloads/spotifyclassification.zip/1) the data.  \n",
    "- Read the [terms and conditions](https://www.kaggle.com/terms) before using the data. \n",
    "\n",
    "\n",
    "**Please do not include the data in your submission.**"
   ]
  },
  {
   "cell_type": "markdown",
   "metadata": {},
   "source": [
    " ## Exercise 2: Exploratory Data Analysis"
   ]
  },
  {
   "cell_type": "markdown",
   "metadata": {},
   "source": [
    "### 2(a) \n",
    "rubric={correctness:1}\n",
    "\n",
    "Open the data CSV as a pandas dataframe and view the first 10 rows of the dataframe. "
   ]
  },
  {
   "cell_type": "code",
   "execution_count": 9,
   "metadata": {},
   "outputs": [
    {
     "data": {
      "text/html": [
       "<div>\n",
       "<style scoped>\n",
       "    .dataframe tbody tr th:only-of-type {\n",
       "        vertical-align: middle;\n",
       "    }\n",
       "\n",
       "    .dataframe tbody tr th {\n",
       "        vertical-align: top;\n",
       "    }\n",
       "\n",
       "    .dataframe thead th {\n",
       "        text-align: right;\n",
       "    }\n",
       "</style>\n",
       "<table border=\"1\" class=\"dataframe\">\n",
       "  <thead>\n",
       "    <tr style=\"text-align: right;\">\n",
       "      <th></th>\n",
       "      <th>Unnamed: 0</th>\n",
       "      <th>acousticness</th>\n",
       "      <th>danceability</th>\n",
       "      <th>duration_ms</th>\n",
       "      <th>energy</th>\n",
       "      <th>instrumentalness</th>\n",
       "      <th>key</th>\n",
       "      <th>liveness</th>\n",
       "      <th>loudness</th>\n",
       "      <th>mode</th>\n",
       "      <th>speechiness</th>\n",
       "      <th>tempo</th>\n",
       "      <th>time_signature</th>\n",
       "      <th>valence</th>\n",
       "      <th>target</th>\n",
       "      <th>song_title</th>\n",
       "      <th>artist</th>\n",
       "    </tr>\n",
       "  </thead>\n",
       "  <tbody>\n",
       "    <tr>\n",
       "      <th>0</th>\n",
       "      <td>0</td>\n",
       "      <td>0.01020</td>\n",
       "      <td>0.833</td>\n",
       "      <td>204600</td>\n",
       "      <td>0.434</td>\n",
       "      <td>0.021900</td>\n",
       "      <td>2</td>\n",
       "      <td>0.1650</td>\n",
       "      <td>-8.795</td>\n",
       "      <td>1</td>\n",
       "      <td>0.4310</td>\n",
       "      <td>150.062</td>\n",
       "      <td>4.0</td>\n",
       "      <td>0.286</td>\n",
       "      <td>1</td>\n",
       "      <td>Mask Off</td>\n",
       "      <td>Future</td>\n",
       "    </tr>\n",
       "    <tr>\n",
       "      <th>1</th>\n",
       "      <td>1</td>\n",
       "      <td>0.19900</td>\n",
       "      <td>0.743</td>\n",
       "      <td>326933</td>\n",
       "      <td>0.359</td>\n",
       "      <td>0.006110</td>\n",
       "      <td>1</td>\n",
       "      <td>0.1370</td>\n",
       "      <td>-10.401</td>\n",
       "      <td>1</td>\n",
       "      <td>0.0794</td>\n",
       "      <td>160.083</td>\n",
       "      <td>4.0</td>\n",
       "      <td>0.588</td>\n",
       "      <td>1</td>\n",
       "      <td>Redbone</td>\n",
       "      <td>Childish Gambino</td>\n",
       "    </tr>\n",
       "    <tr>\n",
       "      <th>2</th>\n",
       "      <td>2</td>\n",
       "      <td>0.03440</td>\n",
       "      <td>0.838</td>\n",
       "      <td>185707</td>\n",
       "      <td>0.412</td>\n",
       "      <td>0.000234</td>\n",
       "      <td>2</td>\n",
       "      <td>0.1590</td>\n",
       "      <td>-7.148</td>\n",
       "      <td>1</td>\n",
       "      <td>0.2890</td>\n",
       "      <td>75.044</td>\n",
       "      <td>4.0</td>\n",
       "      <td>0.173</td>\n",
       "      <td>1</td>\n",
       "      <td>Xanny Family</td>\n",
       "      <td>Future</td>\n",
       "    </tr>\n",
       "    <tr>\n",
       "      <th>3</th>\n",
       "      <td>3</td>\n",
       "      <td>0.60400</td>\n",
       "      <td>0.494</td>\n",
       "      <td>199413</td>\n",
       "      <td>0.338</td>\n",
       "      <td>0.510000</td>\n",
       "      <td>5</td>\n",
       "      <td>0.0922</td>\n",
       "      <td>-15.236</td>\n",
       "      <td>1</td>\n",
       "      <td>0.0261</td>\n",
       "      <td>86.468</td>\n",
       "      <td>4.0</td>\n",
       "      <td>0.230</td>\n",
       "      <td>1</td>\n",
       "      <td>Master Of None</td>\n",
       "      <td>Beach House</td>\n",
       "    </tr>\n",
       "    <tr>\n",
       "      <th>4</th>\n",
       "      <td>4</td>\n",
       "      <td>0.18000</td>\n",
       "      <td>0.678</td>\n",
       "      <td>392893</td>\n",
       "      <td>0.561</td>\n",
       "      <td>0.512000</td>\n",
       "      <td>5</td>\n",
       "      <td>0.4390</td>\n",
       "      <td>-11.648</td>\n",
       "      <td>0</td>\n",
       "      <td>0.0694</td>\n",
       "      <td>174.004</td>\n",
       "      <td>4.0</td>\n",
       "      <td>0.904</td>\n",
       "      <td>1</td>\n",
       "      <td>Parallel Lines</td>\n",
       "      <td>Junior Boys</td>\n",
       "    </tr>\n",
       "    <tr>\n",
       "      <th>5</th>\n",
       "      <td>5</td>\n",
       "      <td>0.00479</td>\n",
       "      <td>0.804</td>\n",
       "      <td>251333</td>\n",
       "      <td>0.560</td>\n",
       "      <td>0.000000</td>\n",
       "      <td>8</td>\n",
       "      <td>0.1640</td>\n",
       "      <td>-6.682</td>\n",
       "      <td>1</td>\n",
       "      <td>0.1850</td>\n",
       "      <td>85.023</td>\n",
       "      <td>4.0</td>\n",
       "      <td>0.264</td>\n",
       "      <td>1</td>\n",
       "      <td>Sneakin’</td>\n",
       "      <td>Drake</td>\n",
       "    </tr>\n",
       "    <tr>\n",
       "      <th>6</th>\n",
       "      <td>6</td>\n",
       "      <td>0.01450</td>\n",
       "      <td>0.739</td>\n",
       "      <td>241400</td>\n",
       "      <td>0.472</td>\n",
       "      <td>0.000007</td>\n",
       "      <td>1</td>\n",
       "      <td>0.2070</td>\n",
       "      <td>-11.204</td>\n",
       "      <td>1</td>\n",
       "      <td>0.1560</td>\n",
       "      <td>80.030</td>\n",
       "      <td>4.0</td>\n",
       "      <td>0.308</td>\n",
       "      <td>1</td>\n",
       "      <td>Childs Play</td>\n",
       "      <td>Drake</td>\n",
       "    </tr>\n",
       "    <tr>\n",
       "      <th>7</th>\n",
       "      <td>7</td>\n",
       "      <td>0.02020</td>\n",
       "      <td>0.266</td>\n",
       "      <td>349667</td>\n",
       "      <td>0.348</td>\n",
       "      <td>0.664000</td>\n",
       "      <td>10</td>\n",
       "      <td>0.1600</td>\n",
       "      <td>-11.609</td>\n",
       "      <td>0</td>\n",
       "      <td>0.0371</td>\n",
       "      <td>144.154</td>\n",
       "      <td>4.0</td>\n",
       "      <td>0.393</td>\n",
       "      <td>1</td>\n",
       "      <td>Gyöngyhajú lány</td>\n",
       "      <td>Omega</td>\n",
       "    </tr>\n",
       "    <tr>\n",
       "      <th>8</th>\n",
       "      <td>8</td>\n",
       "      <td>0.04810</td>\n",
       "      <td>0.603</td>\n",
       "      <td>202853</td>\n",
       "      <td>0.944</td>\n",
       "      <td>0.000000</td>\n",
       "      <td>11</td>\n",
       "      <td>0.3420</td>\n",
       "      <td>-3.626</td>\n",
       "      <td>0</td>\n",
       "      <td>0.3470</td>\n",
       "      <td>130.035</td>\n",
       "      <td>4.0</td>\n",
       "      <td>0.398</td>\n",
       "      <td>1</td>\n",
       "      <td>I've Seen Footage</td>\n",
       "      <td>Death Grips</td>\n",
       "    </tr>\n",
       "    <tr>\n",
       "      <th>9</th>\n",
       "      <td>9</td>\n",
       "      <td>0.00208</td>\n",
       "      <td>0.836</td>\n",
       "      <td>226840</td>\n",
       "      <td>0.603</td>\n",
       "      <td>0.000000</td>\n",
       "      <td>7</td>\n",
       "      <td>0.5710</td>\n",
       "      <td>-7.792</td>\n",
       "      <td>1</td>\n",
       "      <td>0.2370</td>\n",
       "      <td>99.994</td>\n",
       "      <td>4.0</td>\n",
       "      <td>0.386</td>\n",
       "      <td>1</td>\n",
       "      <td>Digital Animal</td>\n",
       "      <td>Honey Claws</td>\n",
       "    </tr>\n",
       "  </tbody>\n",
       "</table>\n",
       "</div>"
      ],
      "text/plain": [
       "   Unnamed: 0  acousticness  danceability  duration_ms  energy  \\\n",
       "0           0       0.01020         0.833       204600   0.434   \n",
       "1           1       0.19900         0.743       326933   0.359   \n",
       "2           2       0.03440         0.838       185707   0.412   \n",
       "3           3       0.60400         0.494       199413   0.338   \n",
       "4           4       0.18000         0.678       392893   0.561   \n",
       "5           5       0.00479         0.804       251333   0.560   \n",
       "6           6       0.01450         0.739       241400   0.472   \n",
       "7           7       0.02020         0.266       349667   0.348   \n",
       "8           8       0.04810         0.603       202853   0.944   \n",
       "9           9       0.00208         0.836       226840   0.603   \n",
       "\n",
       "   instrumentalness  key  liveness  loudness  mode  speechiness    tempo  \\\n",
       "0          0.021900    2    0.1650    -8.795     1       0.4310  150.062   \n",
       "1          0.006110    1    0.1370   -10.401     1       0.0794  160.083   \n",
       "2          0.000234    2    0.1590    -7.148     1       0.2890   75.044   \n",
       "3          0.510000    5    0.0922   -15.236     1       0.0261   86.468   \n",
       "4          0.512000    5    0.4390   -11.648     0       0.0694  174.004   \n",
       "5          0.000000    8    0.1640    -6.682     1       0.1850   85.023   \n",
       "6          0.000007    1    0.2070   -11.204     1       0.1560   80.030   \n",
       "7          0.664000   10    0.1600   -11.609     0       0.0371  144.154   \n",
       "8          0.000000   11    0.3420    -3.626     0       0.3470  130.035   \n",
       "9          0.000000    7    0.5710    -7.792     1       0.2370   99.994   \n",
       "\n",
       "   time_signature  valence  target         song_title            artist  \n",
       "0             4.0    0.286       1           Mask Off            Future  \n",
       "1             4.0    0.588       1            Redbone  Childish Gambino  \n",
       "2             4.0    0.173       1       Xanny Family            Future  \n",
       "3             4.0    0.230       1     Master Of None       Beach House  \n",
       "4             4.0    0.904       1     Parallel Lines       Junior Boys  \n",
       "5             4.0    0.264       1           Sneakin’             Drake  \n",
       "6             4.0    0.308       1        Childs Play             Drake  \n",
       "7             4.0    0.393       1    Gyöngyhajú lány             Omega  \n",
       "8             4.0    0.398       1  I've Seen Footage       Death Grips  \n",
       "9             4.0    0.386       1     Digital Animal       Honey Claws  "
      ]
     },
     "execution_count": 9,
     "metadata": {},
     "output_type": "execute_result"
    }
   ],
   "source": [
    "data = pd.read_csv(\"./data/data.csv\")\n",
    "data.head(10)"
   ]
  },
  {
   "cell_type": "markdown",
   "metadata": {},
   "source": [
    "### 2(b)\n",
    "rubric={correctness:1}\n",
    "\n",
    "Show some summary statistics of each feature using the `describe` method. "
   ]
  },
  {
   "cell_type": "code",
   "execution_count": 10,
   "metadata": {},
   "outputs": [
    {
     "data": {
      "text/html": [
       "<div>\n",
       "<style scoped>\n",
       "    .dataframe tbody tr th:only-of-type {\n",
       "        vertical-align: middle;\n",
       "    }\n",
       "\n",
       "    .dataframe tbody tr th {\n",
       "        vertical-align: top;\n",
       "    }\n",
       "\n",
       "    .dataframe thead th {\n",
       "        text-align: right;\n",
       "    }\n",
       "</style>\n",
       "<table border=\"1\" class=\"dataframe\">\n",
       "  <thead>\n",
       "    <tr style=\"text-align: right;\">\n",
       "      <th></th>\n",
       "      <th>Unnamed: 0</th>\n",
       "      <th>acousticness</th>\n",
       "      <th>danceability</th>\n",
       "      <th>duration_ms</th>\n",
       "      <th>energy</th>\n",
       "      <th>instrumentalness</th>\n",
       "      <th>key</th>\n",
       "      <th>liveness</th>\n",
       "      <th>loudness</th>\n",
       "      <th>mode</th>\n",
       "      <th>speechiness</th>\n",
       "      <th>tempo</th>\n",
       "      <th>time_signature</th>\n",
       "      <th>valence</th>\n",
       "      <th>target</th>\n",
       "    </tr>\n",
       "  </thead>\n",
       "  <tbody>\n",
       "    <tr>\n",
       "      <th>count</th>\n",
       "      <td>2017.000000</td>\n",
       "      <td>2017.000000</td>\n",
       "      <td>2017.000000</td>\n",
       "      <td>2.017000e+03</td>\n",
       "      <td>2017.000000</td>\n",
       "      <td>2017.000000</td>\n",
       "      <td>2017.000000</td>\n",
       "      <td>2017.000000</td>\n",
       "      <td>2017.000000</td>\n",
       "      <td>2017.000000</td>\n",
       "      <td>2017.000000</td>\n",
       "      <td>2017.000000</td>\n",
       "      <td>2017.000000</td>\n",
       "      <td>2017.000000</td>\n",
       "      <td>2017.000000</td>\n",
       "    </tr>\n",
       "    <tr>\n",
       "      <th>mean</th>\n",
       "      <td>1008.000000</td>\n",
       "      <td>0.187590</td>\n",
       "      <td>0.618422</td>\n",
       "      <td>2.463062e+05</td>\n",
       "      <td>0.681577</td>\n",
       "      <td>0.133286</td>\n",
       "      <td>5.342588</td>\n",
       "      <td>0.190844</td>\n",
       "      <td>-7.085624</td>\n",
       "      <td>0.612295</td>\n",
       "      <td>0.092664</td>\n",
       "      <td>121.603272</td>\n",
       "      <td>3.968270</td>\n",
       "      <td>0.496815</td>\n",
       "      <td>0.505702</td>\n",
       "    </tr>\n",
       "    <tr>\n",
       "      <th>std</th>\n",
       "      <td>582.402066</td>\n",
       "      <td>0.259989</td>\n",
       "      <td>0.161029</td>\n",
       "      <td>8.198181e+04</td>\n",
       "      <td>0.210273</td>\n",
       "      <td>0.273162</td>\n",
       "      <td>3.648240</td>\n",
       "      <td>0.155453</td>\n",
       "      <td>3.761684</td>\n",
       "      <td>0.487347</td>\n",
       "      <td>0.089931</td>\n",
       "      <td>26.685604</td>\n",
       "      <td>0.255853</td>\n",
       "      <td>0.247195</td>\n",
       "      <td>0.500091</td>\n",
       "    </tr>\n",
       "    <tr>\n",
       "      <th>min</th>\n",
       "      <td>0.000000</td>\n",
       "      <td>0.000003</td>\n",
       "      <td>0.122000</td>\n",
       "      <td>1.604200e+04</td>\n",
       "      <td>0.014800</td>\n",
       "      <td>0.000000</td>\n",
       "      <td>0.000000</td>\n",
       "      <td>0.018800</td>\n",
       "      <td>-33.097000</td>\n",
       "      <td>0.000000</td>\n",
       "      <td>0.023100</td>\n",
       "      <td>47.859000</td>\n",
       "      <td>1.000000</td>\n",
       "      <td>0.034800</td>\n",
       "      <td>0.000000</td>\n",
       "    </tr>\n",
       "    <tr>\n",
       "      <th>25%</th>\n",
       "      <td>504.000000</td>\n",
       "      <td>0.009630</td>\n",
       "      <td>0.514000</td>\n",
       "      <td>2.000150e+05</td>\n",
       "      <td>0.563000</td>\n",
       "      <td>0.000000</td>\n",
       "      <td>2.000000</td>\n",
       "      <td>0.092300</td>\n",
       "      <td>-8.394000</td>\n",
       "      <td>0.000000</td>\n",
       "      <td>0.037500</td>\n",
       "      <td>100.189000</td>\n",
       "      <td>4.000000</td>\n",
       "      <td>0.295000</td>\n",
       "      <td>0.000000</td>\n",
       "    </tr>\n",
       "    <tr>\n",
       "      <th>50%</th>\n",
       "      <td>1008.000000</td>\n",
       "      <td>0.063300</td>\n",
       "      <td>0.631000</td>\n",
       "      <td>2.292610e+05</td>\n",
       "      <td>0.715000</td>\n",
       "      <td>0.000076</td>\n",
       "      <td>6.000000</td>\n",
       "      <td>0.127000</td>\n",
       "      <td>-6.248000</td>\n",
       "      <td>1.000000</td>\n",
       "      <td>0.054900</td>\n",
       "      <td>121.427000</td>\n",
       "      <td>4.000000</td>\n",
       "      <td>0.492000</td>\n",
       "      <td>1.000000</td>\n",
       "    </tr>\n",
       "    <tr>\n",
       "      <th>75%</th>\n",
       "      <td>1512.000000</td>\n",
       "      <td>0.265000</td>\n",
       "      <td>0.738000</td>\n",
       "      <td>2.703330e+05</td>\n",
       "      <td>0.846000</td>\n",
       "      <td>0.054000</td>\n",
       "      <td>9.000000</td>\n",
       "      <td>0.247000</td>\n",
       "      <td>-4.746000</td>\n",
       "      <td>1.000000</td>\n",
       "      <td>0.108000</td>\n",
       "      <td>137.849000</td>\n",
       "      <td>4.000000</td>\n",
       "      <td>0.691000</td>\n",
       "      <td>1.000000</td>\n",
       "    </tr>\n",
       "    <tr>\n",
       "      <th>max</th>\n",
       "      <td>2016.000000</td>\n",
       "      <td>0.995000</td>\n",
       "      <td>0.984000</td>\n",
       "      <td>1.004627e+06</td>\n",
       "      <td>0.998000</td>\n",
       "      <td>0.976000</td>\n",
       "      <td>11.000000</td>\n",
       "      <td>0.969000</td>\n",
       "      <td>-0.307000</td>\n",
       "      <td>1.000000</td>\n",
       "      <td>0.816000</td>\n",
       "      <td>219.331000</td>\n",
       "      <td>5.000000</td>\n",
       "      <td>0.992000</td>\n",
       "      <td>1.000000</td>\n",
       "    </tr>\n",
       "  </tbody>\n",
       "</table>\n",
       "</div>"
      ],
      "text/plain": [
       "        Unnamed: 0  acousticness  danceability   duration_ms       energy  \\\n",
       "count  2017.000000   2017.000000   2017.000000  2.017000e+03  2017.000000   \n",
       "mean   1008.000000      0.187590      0.618422  2.463062e+05     0.681577   \n",
       "std     582.402066      0.259989      0.161029  8.198181e+04     0.210273   \n",
       "min       0.000000      0.000003      0.122000  1.604200e+04     0.014800   \n",
       "25%     504.000000      0.009630      0.514000  2.000150e+05     0.563000   \n",
       "50%    1008.000000      0.063300      0.631000  2.292610e+05     0.715000   \n",
       "75%    1512.000000      0.265000      0.738000  2.703330e+05     0.846000   \n",
       "max    2016.000000      0.995000      0.984000  1.004627e+06     0.998000   \n",
       "\n",
       "       instrumentalness          key     liveness     loudness         mode  \\\n",
       "count       2017.000000  2017.000000  2017.000000  2017.000000  2017.000000   \n",
       "mean           0.133286     5.342588     0.190844    -7.085624     0.612295   \n",
       "std            0.273162     3.648240     0.155453     3.761684     0.487347   \n",
       "min            0.000000     0.000000     0.018800   -33.097000     0.000000   \n",
       "25%            0.000000     2.000000     0.092300    -8.394000     0.000000   \n",
       "50%            0.000076     6.000000     0.127000    -6.248000     1.000000   \n",
       "75%            0.054000     9.000000     0.247000    -4.746000     1.000000   \n",
       "max            0.976000    11.000000     0.969000    -0.307000     1.000000   \n",
       "\n",
       "       speechiness        tempo  time_signature      valence       target  \n",
       "count  2017.000000  2017.000000     2017.000000  2017.000000  2017.000000  \n",
       "mean      0.092664   121.603272        3.968270     0.496815     0.505702  \n",
       "std       0.089931    26.685604        0.255853     0.247195     0.500091  \n",
       "min       0.023100    47.859000        1.000000     0.034800     0.000000  \n",
       "25%       0.037500   100.189000        4.000000     0.295000     0.000000  \n",
       "50%       0.054900   121.427000        4.000000     0.492000     1.000000  \n",
       "75%       0.108000   137.849000        4.000000     0.691000     1.000000  \n",
       "max       0.816000   219.331000        5.000000     0.992000     1.000000  "
      ]
     },
     "execution_count": 10,
     "metadata": {},
     "output_type": "execute_result"
    }
   ],
   "source": [
    "data.describe()"
   ]
  },
  {
   "cell_type": "markdown",
   "metadata": {},
   "source": [
    "### 2(c) \n",
    "rubric={correctness:2}\n",
    "\n",
    "Which features are continuous features and which ones are categorical? "
   ]
  },
  {
   "cell_type": "markdown",
   "metadata": {},
   "source": [
    "acousticness : Continious  \n",
    "danceability : Continious  \n",
    "duration_ms : Continious  \n",
    "energy : Continious  \n",
    "instrumentalness : Continious  \n",
    "key : Categorical  \n",
    "liveness : Continious  \n",
    "loudness : Continious  \n",
    "mode : Categorical  \n",
    "speechiness : Continious  \n",
    "tempo : Continious  \n",
    "time_signature : Categorical  \n",
    "valence : Continious  \n",
    "target : Categorical  \n",
    "song_title\t: Categorical  \n",
    "artist : Categorical  "
   ]
  },
  {
   "cell_type": "markdown",
   "metadata": {},
   "source": [
    "### 2(d) \n",
    "rubric={correctness:2,reasoning:2}\n",
    "\n",
    "Produce historgrams for the following features that show the distribution of the feature values, separated for positive and negative target values. Briefly note your observations; which features might be useful in differentiating the target classes?\n",
    "\n",
    "- danceability\n",
    "- tempo\n",
    "- instrumentalness\n",
    "- valence\n",
    "\n",
    "Note: you can use matplotlib or seaborn, whichever you prefer."
   ]
  },
  {
   "cell_type": "code",
   "execution_count": 24,
   "metadata": {
    "scrolled": true
   },
   "outputs": [
    {
     "data": {
      "text/plain": [
       "Text(0.5,1,'danceability (target 0)')"
      ]
     },
     "execution_count": 24,
     "metadata": {},
     "output_type": "execute_result"
    },
    {
     "data": {
      "image/png": "[encoded data removed]",
      "text/plain": [
       "<Figure size 360x360 with 1 Axes>"
      ]
     },
     "metadata": {},
     "output_type": "display_data"
    }
   ],
   "source": [
    "target1_data = data.query('target == 1')\n",
    "target0_data = data.query('target == 0')\n",
    "plt.rcParams['figure.figsize']=5,5\n",
    "f, ax = plt.subplots(1, 1)\n",
    "sns.distplot(target1_data[['danceability']], kde = False).set_title('danceability (target 1)')\n",
    "sns.distplot(target0_data[['danceability']], kde = False).set_title('danceability (target 0)')"
   ]
  },
  {
   "cell_type": "code",
   "execution_count": 18,
   "metadata": {},
   "outputs": [
    {
     "data": {
      "text/plain": [
       "Text(0.5,1,'tempo (target 0)')"
      ]
     },
     "execution_count": 18,
     "metadata": {},
     "output_type": "execute_result"
    },
    {
     "data": {
      "image/png": "[encoded data removed]",
      "text/plain": [
       "<Figure size 360x360 with 1 Axes>"
      ]
     },
     "metadata": {},
     "output_type": "display_data"
    }
   ],
   "source": [
    "sns.distplot(target1_data[['tempo']], kde = False).set_title('tempo (target 1)')\n",
    "sns.distplot(target0_data[['tempo']], kde = False).set_title('tempo (target 0)')"
   ]
  },
  {
   "cell_type": "code",
   "execution_count": 19,
   "metadata": {},
   "outputs": [
    {
     "data": {
      "text/plain": [
       "Text(0.5,1,'instrumentalness (target 0)')"
      ]
     },
     "execution_count": 19,
     "metadata": {},
     "output_type": "execute_result"
    },
    {
     "data": {
      "image/png": "[encoded data removed]",
      "text/plain": [
       "<Figure size 360x360 with 1 Axes>"
      ]
     },
     "metadata": {},
     "output_type": "display_data"
    }
   ],
   "source": [
    "sns.distplot(target1_data[['instrumentalness']], kde = False).set_title('instrumentalness (target 1)')\n",
    "sns.distplot(target0_data[['instrumentalness']], kde = False).set_title('instrumentalness (target 0)')"
   ]
  },
  {
   "cell_type": "code",
   "execution_count": 20,
   "metadata": {},
   "outputs": [
    {
     "data": {
      "text/plain": [
       "Text(0.5,1,'valence (target 0)')"
      ]
     },
     "execution_count": 20,
     "metadata": {},
     "output_type": "execute_result"
    },
    {
     "data": {
      "image/png": "[encoded data removed]",
      "text/plain": [
       "<Figure size 360x360 with 1 Axes>"
      ]
     },
     "metadata": {},
     "output_type": "display_data"
    }
   ],
   "source": [
    "sns.distplot(target1_data[['valence']], kde = False).set_title('valence (target 1)')\n",
    "sns.distplot(target0_data[['valence']], kde = False).set_title('valence (target 0)')"
   ]
  },
  {
   "cell_type": "markdown",
   "metadata": {},
   "source": [
    "Instrumentalness seems to be the best indicator/predictor for distinguishing between the target classes. I think this is the case because the distribution of instrumentalness has a large concentration of the data located around the 0 mark, with very little elsewhere. Such a distribution has a lower entropy compared to the other features, which have a wider spread with more probability distributed across other values."
   ]
  },
  {
   "cell_type": "markdown",
   "metadata": {},
   "source": [
    "## Exercise 3: Using sklearn to build a decision tree classifier"
   ]
  },
  {
   "cell_type": "markdown",
   "metadata": {},
   "source": [
    "### 3(a)\n",
    "rubric={correctness:4}\n",
    "\n",
    "Build a `DecisionTreeClassifier` using all features in the Spotify data. "
   ]
  },
  {
   "cell_type": "code",
   "execution_count": 47,
   "metadata": {},
   "outputs": [
    {
     "data": {
      "text/plain": [
       "DecisionTreeClassifier(class_weight=None, criterion='gini', max_depth=None,\n",
       "            max_features=None, max_leaf_nodes=None,\n",
       "            min_impurity_decrease=0.0, min_impurity_split=None,\n",
       "            min_samples_leaf=1, min_samples_split=2,\n",
       "            min_weight_fraction_leaf=0.0, presort=False, random_state=None,\n",
       "            splitter='best')"
      ]
     },
     "execution_count": 47,
     "metadata": {},
     "output_type": "execute_result"
    }
   ],
   "source": [
    "spotify_model = DecisionTreeClassifier()\n",
    "\n",
    "# Let's prepare the data to fit it\n",
    "X = data.drop(columns = ['Unnamed: 0','target', 'song_title', 'artist'])\n",
    "y = pd.DataFrame(data['target'])\n",
    "\n",
    "spotify_model.fit(X,y)"
   ]
  },
  {
   "cell_type": "markdown",
   "metadata": {},
   "source": [
    "### 3(b) \n",
    "rubric={code:2}\n",
    "\n",
    "How accurate is your model on the training data? \n",
    "(Hint: Compare predictions with the values in the target column and find out how often they match.)"
   ]
  },
  {
   "cell_type": "code",
   "execution_count": 48,
   "metadata": {},
   "outputs": [
    {
     "data": {
      "text/plain": [
       "array([0, 1, 1, ..., 0, 0, 0])"
      ]
     },
     "execution_count": 48,
     "metadata": {},
     "output_type": "execute_result"
    }
   ],
   "source": [
    "spotify_model.predict(X)"
   ]
  },
  {
   "cell_type": "code",
   "execution_count": 49,
   "metadata": {
    "scrolled": true
   },
   "outputs": [
    {
     "data": {
      "text/plain": [
       "0.9985126425384234"
      ]
     },
     "execution_count": 49,
     "metadata": {},
     "output_type": "execute_result"
    }
   ],
   "source": [
    "spotify_model.score(X,y)"
   ]
  },
  {
   "cell_type": "markdown",
   "metadata": {},
   "source": [
    "The model seems to be 99.85% accurate on the training data"
   ]
  },
  {
   "cell_type": "markdown",
   "metadata": {},
   "source": [
    "### 3(c)\n",
    "rubric={correctness:2,reasoning:2}\n",
    "\n",
    "Visualize the model tree and note your observations."
   ]
  },
  {
   "cell_type": "code",
   "execution_count": null,
   "metadata": {},
   "outputs": [],
   "source": [
    "acousticness : Continious  --\n",
    "danceability : Continious  --\n",
    "duration_ms : Continious  --\n",
    "energy : Continious  --\n",
    "instrumentalness : Continious  --\n",
    "key : Categorical  --\n",
    "liveness : Continious  --\n",
    "loudness : Continious  --\n",
    "mode : Categorical  --\n",
    "speechiness : Continious  --\n",
    "tempo : Continious  --\n",
    "time_signature : Categorical  --\n",
    "valence : Continious  --\n",
    "target : Categorical  \n",
    "song_title\t: Categorical  \n",
    "artist : Categorical  "
   ]
  },
  {
   "cell_type": "code",
   "execution_count": 34,
   "metadata": {},
   "outputs": [],
   "source": [
    "feature_cols = ['energy','acousticness', 'danceability', 'duration_ms', 'instrumentalness',\n",
    "                'key','liveness','loudness','mode','speechiness','tempo','time_signature',\n",
    "                'valence']"
   ]
  },
  {
   "cell_type": "code",
   "execution_count": 68,
   "metadata": {},
   "outputs": [],
   "source": [
    "def save_and_show_decision_tree2(model, \n",
    "                                class_names = [\"1\",\"0\"], \n",
    "                                save_file_prefix = 'spotify', **kwargs):\n",
    "    \"\"\"\n",
    "    Saves the decision tree model as a pdf and a \n",
    "    \"\"\"\n",
    "    dot_data = tree.export_graphviz(model, out_file=None, \n",
    "                             feature_names=feature_cols,  \n",
    "                             class_names=class_names,  \n",
    "                             filled=True, rounded=True,  \n",
    "                             special_characters=True, **kwargs)  \n",
    "\n",
    "    graph = graphviz.Source(dot_data) \n",
    "    graph.render(save_file_prefix) \n",
    "    return graph\n",
    "\n",
    "graph = save_and_show_decision_tree2(spotify_model)\n",
    "# Please look at the PDF for the graph"
   ]
  },
  {
   "cell_type": "markdown",
   "metadata": {},
   "source": [
    "The PDF name Spotify has the visual representation of the graph."
   ]
  },
  {
   "cell_type": "markdown",
   "metadata": {},
   "source": [
    "## Exercise 4: Hyperparameters\n",
    "\n",
    "In this exercise, you'll experiment with different hyperparameters of the decision tree classifier. See the [`DecisionTreeClassifier` documentation](https://scikit-learn.org/stable/modules/generated/sklearn.tree.DecisionTreeClassifier.html). "
   ]
  },
  {
   "cell_type": "markdown",
   "metadata": {
    "collapsed": true
   },
   "source": [
    "### 4(a) \n",
    "rubric={correctness:2,reasoning:2}\n",
    "\n",
    "Experiment with `min_samples_split` parameter. Try at least 10 different values of min_samples_split values in the range 2 to 200. Discuss how min_samples_split value affects the training accuracy. "
   ]
  },
  {
   "cell_type": "code",
   "execution_count": 61,
   "metadata": {},
   "outputs": [
    {
     "data": {
      "text/plain": [
       "array([  2,   4,  22,  25,  28,  29,  31,  44,  50,  80,  90,  96, 126,\n",
       "       127, 133, 146, 154, 168, 179, 180])"
      ]
     },
     "execution_count": 61,
     "metadata": {},
     "output_type": "execute_result"
    }
   ],
   "source": [
    "random_min_sample_splits = np.random.randint(low=2, high=200, size=20)\n",
    "random_min_sample_splits.sort()\n",
    "random_min_sample_splits"
   ]
  },
  {
   "cell_type": "markdown",
   "metadata": {},
   "source": [
    "Let's run a loop over a list of random numbers between 2 and 200 and record the score of the model by allocating each random number as the value for the min_samples_split"
   ]
  },
  {
   "cell_type": "code",
   "execution_count": 64,
   "metadata": {},
   "outputs": [
    {
     "name": "stdout",
     "output_type": "stream",
     "text": [
      "[0.9985126425384234, 0.9826474962816063, 0.8824987605354487, 0.8715914724838869, 0.8616757560733763, 0.866137828458106, 0.858701041150223, 0.8244918195339613, 0.8200297471492315, 0.8011898859692613, 0.7887952404561229, 0.7803668815071889, 0.7674764501735251, 0.7674764501735251, 0.7654933068914229, 0.7530986613782846, 0.7526028755577591, 0.7446703024293505, 0.7446703024293505, 0.7446703024293505]\n"
     ]
    }
   ],
   "source": [
    "scores = []\n",
    "for val in random_min_sample_splits:\n",
    "    spotify_model = DecisionTreeClassifier(min_samples_split = val)\n",
    "    # Let's prepare the data to fit it\n",
    "    X = data.drop(columns = ['Unnamed: 0','target', 'song_title', 'artist'])\n",
    "    y = pd.DataFrame(data['target'])\n",
    "    spotify_model.fit(X,y)\n",
    "    spotify_model.predict(X)\n",
    "    scores.append(spotify_model.score(X,y))\n",
    "    \n",
    "print(scores)"
   ]
  },
  {
   "cell_type": "code",
   "execution_count": 67,
   "metadata": {},
   "outputs": [
    {
     "data": {
      "text/plain": [
       "Text(0,0.5,'Accuracy Scores')"
      ]
     },
     "execution_count": 67,
     "metadata": {},
     "output_type": "execute_result"
    },
    {
     "data": {
      "image/png": "[encoded data removed]",
      "text/plain": [
       "<Figure size 360x360 with 1 Axes>"
      ]
     },
     "metadata": {},
     "output_type": "display_data"
    }
   ],
   "source": [
    "# Let's plot the values to see what's happening visually as well\n",
    "plt.plot(random_min_sample_splits,scores)\n",
    "plt.title(\"Accuracy Scores vs Min Sample Split Size\")\n",
    "plt.xlabel(\"Min Sample Split Size\")\n",
    "plt.ylabel(\"Accuracy Scores\")"
   ]
  },
  {
   "cell_type": "markdown",
   "metadata": {},
   "source": [
    "As expected the accuracy of model decreases substantially as the min sample split size increases. The min_sample_split parameter of the DecisionTreeClassifier function decides the minimum number of splits that an internal node (table/data if it's easier to understand) can be split into. By raising the number, we are asking the Decision Tree algorithm to only proceed if the minimum number of splits can be made OR samples/#of splits >= min_sample_split. When the samples/#of splits possible is less than the min_samples_split value, then the decision tree stops at that height. \n",
    "\n",
    "(From Slack by Mike)  \n",
    "An important note however,( samples >= min_sample_split is a necessary condition to split but not a sufficient condition to split. For example, maybe there are no splits that improve the gini value. Or maybe there are no candidate splits at all (e.g. all 3 samples have the same features).\n"
   ]
  },
  {
   "cell_type": "markdown",
   "metadata": {},
   "source": [
    "## (Optional) Exercise 5: Decision tree implementation\n",
    "rubric={reasoning:1}"
   ]
  },
  {
   "cell_type": "markdown",
   "metadata": {},
   "source": [
    "The file `decision_stump.py` contains code that implements a decision _stump_ in Python. Building of this code, implement a decision _tree_ and compare your tree to the one from scikit-learn in terms of both speed and output. \n",
    "\n",
    "Hint: your implementation should be recursive.\n",
    "\n",
    "Note: the scikit-learn decision stump splits between feature values, whereas our code splits on feature values (as discussed in lecture)."
   ]
  }
 ],
 "metadata": {
  "kernelspec": {
   "display_name": "Python 3",
   "language": "python",
   "name": "python3"
  },
  "language_info": {
   "codemirror_mode": {
    "name": "ipython",
    "version": 3
   },
   "file_extension": ".py",
   "mimetype": "text/x-python",
   "name": "python",
   "nbconvert_exporter": "python",
   "pygments_lexer": "ipython3",
   "version": "3.6.5"
  },
  "toc": {
   "base_numbering": 1,
   "nav_menu": {},
   "number_sections": false,
   "sideBar": true,
   "skip_h1_title": false,
   "title_cell": "Table of Contents",
   "title_sidebar": "Contents",
   "toc_cell": true,
   "toc_position": {},
   "toc_section_display": true,
   "toc_window_display": false
  }
 },
 "nbformat": 4,
 "nbformat_minor": 2
}
